{
 "cells": [
  {
   "cell_type": "code",
   "execution_count": 1,
   "metadata": {},
   "outputs": [
    {
     "name": "stdout",
     "output_type": "stream",
     "text": [
      "Requirement already satisfied: sklearn in /home/ubuntu/.local/lib/python3.5/site-packages (0.0)\n",
      "Requirement already satisfied: scikit-learn in /home/ubuntu/.local/lib/python3.5/site-packages (from sklearn) (0.21.3)\n",
      "Requirement already satisfied: scipy>=0.17.0 in /home/ubuntu/.local/lib/python3.5/site-packages (from scikit-learn->sklearn) (1.3.1)\n",
      "Requirement already satisfied: joblib>=0.11 in /home/ubuntu/.local/lib/python3.5/site-packages (from scikit-learn->sklearn) (0.14.0)\n",
      "Requirement already satisfied: numpy>=1.11.0 in /home/ubuntu/.local/lib/python3.5/site-packages (from scikit-learn->sklearn) (1.17.2)\n",
      "Requirement already satisfied: seaborn in /home/ubuntu/.local/lib/python3.5/site-packages (0.9.0)\n",
      "Requirement already satisfied: pandas>=0.15.2 in /home/ubuntu/.local/lib/python3.5/site-packages (from seaborn) (0.23.4)\n",
      "Requirement already satisfied: matplotlib>=1.4.3 in /home/ubuntu/.local/lib/python3.5/site-packages (from seaborn) (2.2.2)\n",
      "Requirement already satisfied: scipy>=0.14.0 in /home/ubuntu/.local/lib/python3.5/site-packages (from seaborn) (1.3.1)\n",
      "Requirement already satisfied: numpy>=1.9.3 in /home/ubuntu/.local/lib/python3.5/site-packages (from seaborn) (1.17.2)\n",
      "Requirement already satisfied: pytz>=2011k in /home/ubuntu/.local/lib/python3.5/site-packages (from pandas>=0.15.2->seaborn) (2018.5)\n",
      "Requirement already satisfied: python-dateutil>=2.5.0 in /home/ubuntu/.local/lib/python3.5/site-packages (from pandas>=0.15.2->seaborn) (2.7.3)\n",
      "Requirement already satisfied: kiwisolver>=1.0.1 in /home/ubuntu/.local/lib/python3.5/site-packages (from matplotlib>=1.4.3->seaborn) (1.0.1)\n",
      "Requirement already satisfied: pyparsing!=2.0.4,!=2.1.2,!=2.1.6,>=2.0.1 in /home/ubuntu/.local/lib/python3.5/site-packages (from matplotlib>=1.4.3->seaborn) (2.2.0)\n",
      "Requirement already satisfied: six>=1.10 in /home/ubuntu/.local/lib/python3.5/site-packages (from matplotlib>=1.4.3->seaborn) (1.11.0)\n",
      "Requirement already satisfied: cycler>=0.10 in /home/ubuntu/.local/lib/python3.5/site-packages (from matplotlib>=1.4.3->seaborn) (0.10.0)\n",
      "Requirement already satisfied: setuptools in /home/ubuntu/.local/lib/python3.5/site-packages (from kiwisolver>=1.0.1->matplotlib>=1.4.3->seaborn) (39.2.0)\n",
      "Requirement already satisfied: folium in /home/ubuntu/.local/lib/python3.5/site-packages (0.10.0)\n",
      "Requirement already satisfied: jinja2>=2.9 in /home/ubuntu/.local/lib/python3.5/site-packages (from folium) (2.10)\n",
      "Requirement already satisfied: numpy in /home/ubuntu/.local/lib/python3.5/site-packages (from folium) (1.17.2)\n",
      "Requirement already satisfied: requests in /usr/lib/python3/dist-packages (from folium) (2.9.1)\n",
      "Requirement already satisfied: branca>=0.3.0 in /home/ubuntu/.local/lib/python3.5/site-packages (from folium) (0.3.1)\n",
      "Requirement already satisfied: MarkupSafe>=0.23 in /home/ubuntu/.local/lib/python3.5/site-packages (from jinja2>=2.9->folium) (1.0)\n",
      "Requirement already satisfied: six in /home/ubuntu/.local/lib/python3.5/site-packages (from branca>=0.3.0->folium) (1.11.0)\n",
      "Requirement already satisfied: statsmodels in /home/ubuntu/.local/lib/python3.5/site-packages (0.10.1)\n",
      "Requirement already satisfied: scipy>=0.18 in /home/ubuntu/.local/lib/python3.5/site-packages (from statsmodels) (1.3.1)\n",
      "Requirement already satisfied: numpy>=1.11 in /home/ubuntu/.local/lib/python3.5/site-packages (from statsmodels) (1.17.2)\n",
      "Requirement already satisfied: pandas>=0.19 in /home/ubuntu/.local/lib/python3.5/site-packages (from statsmodels) (0.23.4)\n",
      "Requirement already satisfied: patsy>=0.4.0 in /home/ubuntu/.local/lib/python3.5/site-packages (from statsmodels) (0.5.1)\n",
      "Requirement already satisfied: pytz>=2011k in /home/ubuntu/.local/lib/python3.5/site-packages (from pandas>=0.19->statsmodels) (2018.5)\n",
      "Requirement already satisfied: python-dateutil>=2.5.0 in /home/ubuntu/.local/lib/python3.5/site-packages (from pandas>=0.19->statsmodels) (2.7.3)\n",
      "Requirement already satisfied: six in /home/ubuntu/.local/lib/python3.5/site-packages (from patsy>=0.4.0->statsmodels) (1.11.0)\n"
     ]
    }
   ],
   "source": [
    "!python3 -m pip install --user sklearn\n",
    "!python3 -m pip install --user seaborn\n",
    "!python3 -m pip install --user folium\n",
    "!python3 -m pip install --user statsmodels"
   ]
  },
  {
   "cell_type": "code",
   "execution_count": 5,
   "metadata": {},
   "outputs": [],
   "source": [
    "import numpy as np\n",
    "import matplotlib \n",
    "import matplotlib.pyplot as plt\n",
    "%matplotlib inline\n",
    "import pandas as pd\n",
    "from sklearn.linear_model import LogisticRegression\n",
    "from sklearn.model_selection import train_test_split\n",
    "from sklearn.ensemble import RandomForestClassifier\n",
    "from sklearn.tree import export_graphviz, DecisionTreeClassifier\n",
    "from sklearn import metrics\n",
    "import pandas as pd \n",
    "from sklearn.model_selection import train_test_split\n",
    "from sklearn import linear_model\n",
    "from sklearn.neighbors import KNeighborsRegressor\n",
    "from sklearn.preprocessing import PolynomialFeatures\n",
    "from sklearn.model_selection import cross_val_score\n",
    "import seaborn as sns\n",
    "import folium\n",
    "from folium.plugins import HeatMap\n",
    "from mpl_toolkits.mplot3d import Axes3D\n",
    "%matplotlib inline\n",
    "import warnings\n",
    "warnings.filterwarnings('ignore')\n",
    "import statsmodels.formula.api as sm\n",
    "import math\n",
    "from sklearn.preprocessing import scale"
   ]
  },
  {
   "cell_type": "code",
   "execution_count": 9,
   "metadata": {},
   "outputs": [],
   "source": [
    "# Section must be included at the beginning of each new notebook. Remember to change the app name. \n",
    "# If you're using VirtualBox, change the below to '/home/user/spark-2.1.1-bin-hadoop2.7'\n",
    "import findspark\n",
    "findspark.init('/home/ubuntu/spark-2.1.1-bin-hadoop2.7')\n",
    "import pyspark\n",
    "spark = SparkSession.builder.appName('houseprice_beijing').getOrCreate()"
   ]
  },
  {
   "cell_type": "code",
   "execution_count": null,
   "metadata": {},
   "outputs": [],
   "source": []
  }
 ],
 "metadata": {
  "kernelspec": {
   "display_name": "Python 3",
   "language": "python",
   "name": "python3"
  },
  "language_info": {
   "codemirror_mode": {
    "name": "ipython",
    "version": 3
   },
   "file_extension": ".py",
   "mimetype": "text/x-python",
   "name": "python",
   "nbconvert_exporter": "python",
   "pygments_lexer": "ipython3",
   "version": "3.5.2"
  }
 },
 "nbformat": 4,
 "nbformat_minor": 2
}
